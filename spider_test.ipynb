{
 "cells": [
  {
   "cell_type": "code",
   "execution_count": null,
   "metadata": {},
   "outputs": [],
   "source": [
    "import requests\n",
    "import re\n",
    "\n",
    "html = requests.get('http://exercise.kingname.info/exercise_requests_get.html').content.decode()\n",
    "title = re.search('title>(.*?)<', html)\n",
    "content_list = re.findall('p>(.*?)<', html, re.S)\n",
    "content_str = ''.join(content_list)\n",
    "print(title)\n",
    "print(content_list)\n",
    "print(content_str)\n",
    "print('-'*30)\n",
    "print(html)"
   ]
  },
  {
   "cell_type": "code",
   "execution_count": null,
   "metadata": {},
   "outputs": [],
   "source": []
  }
 ],
 "metadata": {
  "kernelspec": {
   "display_name": "Python 3",
   "language": "python",
   "name": "python3"
  },
  "language_info": {
   "name": ""
  }
 },
 "nbformat": 4,
 "nbformat_minor": 4
}
