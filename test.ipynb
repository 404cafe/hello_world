{
 "cells": [
  {
   "cell_type": "code",
   "execution_count": 2,
   "metadata": {},
   "outputs": [
    {
     "name": "stdout",
     "output_type": "stream",
     "text": [
      "hello world\n"
     ]
    }
   ],
   "source": [
    "print('hello world')"
   ]
  },
  {
   "cell_type": "code",
   "execution_count": 5,
   "metadata": {},
   "outputs": [],
   "source": [
    "# %load train.py\n",
    " \n",
    "train_v = 10\n",
    " \n",
    "def train_add(list_n):\n",
    "    train_sum = 0\n",
    "    for i in range(len(list_n)):\n",
    "        train_sum += list_n[i]\n",
    "    return train_sum\n",
    "list_n = [2,3,4,5,6]\n",
    " \n",
    "print(train_add(list_n))\n"
   ]
  },
  {
   "cell_type": "code",
   "execution_count": 11,
   "metadata": {},
   "outputs": [
    {
     "name": "stdout",
     "output_type": "stream",
     "text": [
      "列表原来为：[1, 2, 3]\n",
      "[1, 2, 3, 4, 5, 6]\n",
      "112925256\n",
      "112925256\n",
      "列表被修改为：[1, 2, 3, 4, 5, 6]\n"
     ]
    },
    {
     "data": {
      "text/plain": [
       "\"\\nprint(f'列表原来为：{a}')\\nchange_list2(a)\\nprint(f'列表被修改为：{a}')\\n\""
      ]
     },
     "execution_count": 11,
     "metadata": {},
     "output_type": "execute_result"
    }
   ],
   "source": [
    "a = [1, 2, 3]\n",
    "b = 0\n",
    "c = {}\n",
    "\n",
    "def change_list(para):\n",
    "    para.append(4)\n",
    "    para.append(5)\n",
    "    para.append(6)\n",
    "    print(para)\n",
    "    print(id(para))\n",
    "\n",
    "\n",
    "def change_list2(para):\n",
    "    para = []\n",
    "    para.append(4)\n",
    "    para.append(5)\n",
    "    para.append(6)\n",
    "    print(para)\n",
    "    print(id(para))\n",
    "\n",
    "print(f'列表原来为：{a}')\n",
    "change_list(a)\n",
    "print(id(a))\n",
    "print(f'列表被修改为：{a}')\n",
    "\n",
    "\n",
    "'''\n",
    "print(f'列表原来为：{a}')\n",
    "change_list2(a)\n",
    "print(f'列表被修改为：{a}')\n",
    "'''"
   ]
  },
  {
   "cell_type": "code",
   "execution_count": 10,
   "metadata": {},
   "outputs": [
    {
     "name": "stdout",
     "output_type": "stream",
     "text": [
      "<built-in function print>\n"
     ]
    }
   ],
   "source": [
    "print(print)"
   ]
  },
  {
   "cell_type": "code",
   "execution_count": 6,
   "metadata": {},
   "outputs": [
    {
     "data": {
      "text/plain": [
       "range(0, 9)"
      ]
     },
     "execution_count": 6,
     "metadata": {},
     "output_type": "execute_result"
    }
   ],
   "source": [
    "range(0, 9)"
   ]
  },
  {
   "cell_type": "code",
   "execution_count": null,
   "metadata": {},
   "outputs": [],
   "source": []
  }
 ],
 "metadata": {
  "kernelspec": {
   "display_name": "Python 3",
   "language": "python",
   "name": "python3"
  },
  "language_info": {
   "codemirror_mode": {
    "name": "ipython",
    "version": 3
   },
   "file_extension": ".py",
   "mimetype": "text/x-python",
   "name": "python",
   "nbconvert_exporter": "python",
   "pygments_lexer": "ipython3",
   "version": "3.7.3"
  }
 },
 "nbformat": 4,
 "nbformat_minor": 4
}
